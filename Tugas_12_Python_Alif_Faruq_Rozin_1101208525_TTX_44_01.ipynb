{
  "nbformat": 4,
  "nbformat_minor": 0,
  "metadata": {
    "colab": {
      "name": "Tugas 12 Python_Alif Faruq Rozin_1101208525_TTX-44-01.ipynb",
      "provenance": [],
      "mount_file_id": "1yvo9dfC21pRHX_ZR9ZMEjFIpPWjtMTjg",
      "authorship_tag": "ABX9TyMjhjO7NRtTh1F2enZFBr6T",
      "include_colab_link": true
    },
    "kernelspec": {
      "name": "python3",
      "display_name": "Python 3"
    }
  },
  "cells": [
    {
      "cell_type": "markdown",
      "metadata": {
        "id": "view-in-github",
        "colab_type": "text"
      },
      "source": [
        "<a href=\"https://colab.research.google.com/github/Alif4401/Pemograman_Python/blob/main/Tugas_12_Python_Alif_Faruq_Rozin_1101208525_TTX_44_01.ipynb\" target=\"_parent\"><img src=\"https://colab.research.google.com/assets/colab-badge.svg\" alt=\"Open In Colab\"/></a>"
      ]
    },
    {
      "cell_type": "markdown",
      "metadata": {
        "id": "rVV4AM71VbUX"
      },
      "source": [
        "Nama : Alif Faruq Rozin ; NIM : 1101208525 Kelas : TTX 44-01"
      ]
    },
    {
      "cell_type": "code",
      "metadata": {
        "id": "tc83Ir4KVHFF"
      },
      "source": [
        "import numpy as np"
      ],
      "execution_count": 1,
      "outputs": []
    },
    {
      "cell_type": "code",
      "metadata": {
        "id": "HPKgOkXYVstc"
      },
      "source": [
        "NtL = lambda x: 10*np.log10(x)"
      ],
      "execution_count": 2,
      "outputs": []
    },
    {
      "cell_type": "code",
      "metadata": {
        "colab": {
          "base_uri": "https://localhost:8080/"
        },
        "id": "Cr8_c2eFVtwT",
        "outputId": "2ec9c15a-7212-4cc6-ab54-452dd3060ab8"
      },
      "source": [
        "z=NtL(20)\r\n",
        "print(z)"
      ],
      "execution_count": 3,
      "outputs": [
        {
          "output_type": "stream",
          "text": [
            "13.010299956639813\n"
          ],
          "name": "stdout"
        }
      ]
    },
    {
      "cell_type": "code",
      "metadata": {
        "id": "751sOoEQVxnS"
      },
      "source": [
        "LtN = lambda x: 10**(x/10)"
      ],
      "execution_count": 4,
      "outputs": []
    },
    {
      "cell_type": "code",
      "metadata": {
        "colab": {
          "base_uri": "https://localhost:8080/"
        },
        "id": "Fh8tvB_SVy1X",
        "outputId": "2fdf63ab-ad2d-4649-c886-8e51427e54c7"
      },
      "source": [
        "y=LtN(20)\r\n",
        "print(y)"
      ],
      "execution_count": 5,
      "outputs": [
        {
          "output_type": "stream",
          "text": [
            "100.0\n"
          ],
          "name": "stdout"
        }
      ]
    },
    {
      "cell_type": "code",
      "metadata": {
        "colab": {
          "base_uri": "https://localhost:8080/"
        },
        "id": "jETZONEqV1wP",
        "outputId": "ae98b124-0da2-44a2-c9f5-99cffd4e307d"
      },
      "source": [
        "Lp = 69.55 + (26.16*np.log10(900)) - (13.83*np.log10(30)) - ((((1.1*np.log10(900))-0.7)*10) - ((1.56*np.log10(900))-0.8)) + ((44.9-(6.55*np.log10(30)))*np.log10(1)) + 0\r\n",
        "print(Lp)"
      ],
      "execution_count": 6,
      "outputs": [
        {
          "output_type": "stream",
          "text": [
            "104.71634780505256\n"
          ],
          "name": "stdout"
        }
      ]
    },
    {
      "cell_type": "code",
      "metadata": {
        "id": "pffVaFNXV4VQ"
      },
      "source": [
        "def ploss (d, f, cm, ht, hr):\r\n",
        "    pldb= 69.55 + (26.16*np.log10(f)) - (13.83*np.log10(ht)) - ((((1.1*np.log10(f))-0.7)*hr) - ((1.56*np.log10(f))-0.8)) + ((44.9-(6.55*np.log10(ht)))*np.log10(d)) + cm\r\n",
        "    plnum=LtN(-pldb)\r\n",
        "    return pldb,plnum"
      ],
      "execution_count": 7,
      "outputs": []
    },
    {
      "cell_type": "code",
      "metadata": {
        "colab": {
          "base_uri": "https://localhost:8080/"
        },
        "id": "6zekqaW0V6wG",
        "outputId": "6a8a56a7-dfb5-4b33-cde6-2638d06cc686"
      },
      "source": [
        "pathlossdb, pathlossnum = ploss(3, 1500, 0, 120, 25)\r\n",
        "print(\"pathloss dalam db =\",pathlossdb,\"dB\")"
      ],
      "execution_count": 8,
      "outputs": [
        {
          "output_type": "stream",
          "text": [
            "pathloss dalam db = 73.11866653094631 dB\n"
          ],
          "name": "stdout"
        }
      ]
    }
  ]
}